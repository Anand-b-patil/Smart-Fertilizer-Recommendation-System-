{
 "cells": [
  {
   "cell_type": "code",
   "execution_count": 3,
   "id": "7016a85f",
   "metadata": {},
   "outputs": [],
   "source": [
    "\n",
    "import pandas as pd\n",
    "import numpy as np\n",
    "from sklearn.model_selection import train_test_split\n",
    "from sklearn.preprocessing import LabelEncoder\n",
    "from sklearn.ensemble import RandomForestClassifier\n",
    "from sklearn.metrics import accuracy_score\n",
    "import warnings\n",
    "warnings.filterwarnings('ignore')\n"
   ]
  },
  {
   "cell_type": "code",
   "execution_count": 4,
   "id": "295fc445",
   "metadata": {},
   "outputs": [],
   "source": [
    "df = pd.read_csv(r'D:\\Smart Fertilizer Recommendation System\\data\\data_core.csv')"
   ]
  },
  {
   "cell_type": "markdown",
   "id": "db182bb3",
   "metadata": {},
   "source": [
    "Load Dataset"
   ]
  },
  {
   "cell_type": "code",
   "execution_count": 3,
   "id": "dc11fcd2",
   "metadata": {},
   "outputs": [
    {
     "data": {
      "text/html": [
       "<div>\n",
       "<style scoped>\n",
       "    .dataframe tbody tr th:only-of-type {\n",
       "        vertical-align: middle;\n",
       "    }\n",
       "\n",
       "    .dataframe tbody tr th {\n",
       "        vertical-align: top;\n",
       "    }\n",
       "\n",
       "    .dataframe thead th {\n",
       "        text-align: right;\n",
       "    }\n",
       "</style>\n",
       "<table border=\"1\" class=\"dataframe\">\n",
       "  <thead>\n",
       "    <tr style=\"text-align: right;\">\n",
       "      <th></th>\n",
       "      <th>Temparature</th>\n",
       "      <th>Humidity</th>\n",
       "      <th>Moisture</th>\n",
       "      <th>Soil Type</th>\n",
       "      <th>Crop Type</th>\n",
       "      <th>Nitrogen</th>\n",
       "      <th>Potassium</th>\n",
       "      <th>Phosphorous</th>\n",
       "      <th>Fertilizer Name</th>\n",
       "    </tr>\n",
       "  </thead>\n",
       "  <tbody>\n",
       "    <tr>\n",
       "      <th>0</th>\n",
       "      <td>26.0</td>\n",
       "      <td>52.0</td>\n",
       "      <td>38.0</td>\n",
       "      <td>Sandy</td>\n",
       "      <td>Maize</td>\n",
       "      <td>37</td>\n",
       "      <td>0</td>\n",
       "      <td>0</td>\n",
       "      <td>Urea</td>\n",
       "    </tr>\n",
       "    <tr>\n",
       "      <th>1</th>\n",
       "      <td>29.0</td>\n",
       "      <td>52.0</td>\n",
       "      <td>45.0</td>\n",
       "      <td>Loamy</td>\n",
       "      <td>Sugarcane</td>\n",
       "      <td>12</td>\n",
       "      <td>0</td>\n",
       "      <td>36</td>\n",
       "      <td>DAP</td>\n",
       "    </tr>\n",
       "    <tr>\n",
       "      <th>2</th>\n",
       "      <td>34.0</td>\n",
       "      <td>65.0</td>\n",
       "      <td>62.0</td>\n",
       "      <td>Black</td>\n",
       "      <td>Cotton</td>\n",
       "      <td>7</td>\n",
       "      <td>9</td>\n",
       "      <td>30</td>\n",
       "      <td>14-35-14</td>\n",
       "    </tr>\n",
       "    <tr>\n",
       "      <th>3</th>\n",
       "      <td>32.0</td>\n",
       "      <td>62.0</td>\n",
       "      <td>34.0</td>\n",
       "      <td>Red</td>\n",
       "      <td>Tobacco</td>\n",
       "      <td>22</td>\n",
       "      <td>0</td>\n",
       "      <td>20</td>\n",
       "      <td>28-28</td>\n",
       "    </tr>\n",
       "    <tr>\n",
       "      <th>4</th>\n",
       "      <td>28.0</td>\n",
       "      <td>54.0</td>\n",
       "      <td>46.0</td>\n",
       "      <td>Clayey</td>\n",
       "      <td>Paddy</td>\n",
       "      <td>35</td>\n",
       "      <td>0</td>\n",
       "      <td>0</td>\n",
       "      <td>Urea</td>\n",
       "    </tr>\n",
       "  </tbody>\n",
       "</table>\n",
       "</div>"
      ],
      "text/plain": [
       "   Temparature  Humidity  Moisture Soil Type  Crop Type  Nitrogen  Potassium  \\\n",
       "0         26.0      52.0      38.0     Sandy      Maize        37          0   \n",
       "1         29.0      52.0      45.0     Loamy  Sugarcane        12          0   \n",
       "2         34.0      65.0      62.0     Black     Cotton         7          9   \n",
       "3         32.0      62.0      34.0       Red    Tobacco        22          0   \n",
       "4         28.0      54.0      46.0    Clayey      Paddy        35          0   \n",
       "\n",
       "   Phosphorous Fertilizer Name  \n",
       "0            0            Urea  \n",
       "1           36             DAP  \n",
       "2           30        14-35-14  \n",
       "3           20           28-28  \n",
       "4            0            Urea  "
      ]
     },
     "execution_count": 3,
     "metadata": {},
     "output_type": "execute_result"
    }
   ],
   "source": [
    "df.head()"
   ]
  },
  {
   "cell_type": "code",
   "execution_count": 4,
   "id": "dd6a3c94",
   "metadata": {},
   "outputs": [
    {
     "data": {
      "text/plain": [
       "(8000, 9)"
      ]
     },
     "execution_count": 4,
     "metadata": {},
     "output_type": "execute_result"
    }
   ],
   "source": [
    "df.shape"
   ]
  },
  {
   "cell_type": "markdown",
   "id": "90a38893",
   "metadata": {},
   "source": [
    "Data Inception"
   ]
  },
  {
   "cell_type": "code",
   "execution_count": 5,
   "id": "94d997cf",
   "metadata": {},
   "outputs": [
    {
     "name": "stdout",
     "output_type": "stream",
     "text": [
      "<class 'pandas.core.frame.DataFrame'>\n",
      "RangeIndex: 8000 entries, 0 to 7999\n",
      "Data columns (total 9 columns):\n",
      " #   Column           Non-Null Count  Dtype  \n",
      "---  ------           --------------  -----  \n",
      " 0   Temparature      8000 non-null   float64\n",
      " 1   Humidity         8000 non-null   float64\n",
      " 2   Moisture         8000 non-null   float64\n",
      " 3   Soil Type        8000 non-null   object \n",
      " 4   Crop Type        8000 non-null   object \n",
      " 5   Nitrogen         8000 non-null   int64  \n",
      " 6   Potassium        8000 non-null   int64  \n",
      " 7   Phosphorous      8000 non-null   int64  \n",
      " 8   Fertilizer Name  8000 non-null   object \n",
      "dtypes: float64(3), int64(3), object(3)\n",
      "memory usage: 562.6+ KB\n"
     ]
    }
   ],
   "source": [
    "df.info()"
   ]
  },
  {
   "cell_type": "code",
   "execution_count": 6,
   "id": "0787cfa6",
   "metadata": {},
   "outputs": [
    {
     "data": {
      "text/plain": [
       "Temparature        0\n",
       "Humidity           0\n",
       "Moisture           0\n",
       "Soil Type          0\n",
       "Crop Type          0\n",
       "Nitrogen           0\n",
       "Potassium          0\n",
       "Phosphorous        0\n",
       "Fertilizer Name    0\n",
       "dtype: int64"
      ]
     },
     "execution_count": 6,
     "metadata": {},
     "output_type": "execute_result"
    }
   ],
   "source": [
    "df.isnull().sum()"
   ]
  },
  {
   "cell_type": "code",
   "execution_count": 7,
   "id": "553cb60b",
   "metadata": {},
   "outputs": [
    {
     "data": {
      "text/plain": [
       "Fertilizer Name\n",
       "14-35-14    1188\n",
       "Urea        1170\n",
       "DAP         1167\n",
       "10-26-26    1128\n",
       "17-17-17    1124\n",
       "28-28       1120\n",
       "20-20       1103\n",
       "Name: count, dtype: int64"
      ]
     },
     "execution_count": 7,
     "metadata": {},
     "output_type": "execute_result"
    }
   ],
   "source": [
    "df['Fertilizer Name'].value_counts()"
   ]
  },
  {
   "cell_type": "markdown",
   "id": "f623ff9e",
   "metadata": {},
   "source": [
    "Visualization"
   ]
  },
  {
   "cell_type": "code",
   "execution_count": 8,
   "id": "0f9e5af3",
   "metadata": {},
   "outputs": [],
   "source": [
    "import matplotlib.pyplot as plt\n",
    "import seaborn as sns"
   ]
  },
  {
   "cell_type": "code",
   "execution_count": 9,
   "id": "78c8d4c7",
   "metadata": {},
   "outputs": [
    {
     "data": {
      "image/png": "[encoded data removed]",
      "text/plain": [
       "<Figure size 1000x500 with 1 Axes>"
      ]
     },
     "metadata": {},
     "output_type": "display_data"
    }
   ],
   "source": [
    "plt.figure(figsize=(10, 5))\n",
    "sns.countplot(data=df, x='Fertilizer Name')\n",
    "plt.title(\"Class Distribution of Fertilizers\")\n",
    "plt.xticks(rotation=45)\n",
    "plt.show()\n"
   ]
  },
  {
   "cell_type": "code",
   "execution_count": 10,
   "id": "9ae01085",
   "metadata": {},
   "outputs": [
    {
     "data": {
      "image/png": "[encoded data removed]",
      "text/plain": [
       "<Figure size 1000x500 with 1 Axes>"
      ]
     },
     "metadata": {},
     "output_type": "display_data"
    }
   ],
   "source": [
    "df['Soil Type'].value_counts().plot(kind='bar', figsize=(10, 5))\n",
    "plt.title(\"Soil Type Distribution\")\n",
    "plt.xlabel(\"Soil Type\")\n",
    "plt.ylabel(\"Count\")\n",
    "plt.show()"
   ]
  },
  {
   "cell_type": "markdown",
   "id": "77779e6e",
   "metadata": {},
   "source": [
    "Modeling\n"
   ]
  },
  {
   "cell_type": "code",
   "execution_count": 6,
   "id": "ea0ed790",
   "metadata": {},
   "outputs": [],
   "source": [
    "class ImprovedFertilizerRecommender:\n",
    "    def __init__(self):\n",
    "        self.fertilizer_npk_content = {\n",
    "            'Urea': {'N': 46, 'P': 0, 'K': 0},\n",
    "            'DAP': {'N': 18, 'P': 46, 'K': 0},\n",
    "            '10-26-26': {'N': 10, 'P': 26, 'K': 26},\n",
    "            '14-35-14': {'N': 14, 'P': 35, 'K': 14},\n",
    "            '17-17-17': {'N': 17, 'P': 17, 'K': 17},\n",
    "            '20-20': {'N': 20, 'P': 20, 'K': 0},\n",
    "            '28-28': {'N': 28, 'P': 28, 'K': 0}\n",
    "        }\n",
    "        \n",
    "        self.crop_requirements = {\n",
    "            'Maize': {'N': 120, 'P': 60, 'K': 40},\n",
    "            'Rice': {'N': 100, 'P': 50, 'K': 50},\n",
    "            'Paddy': {'N': 100, 'P': 50, 'K': 50},\n",
    "            'Wheat': {'N': 150, 'P': 60, 'K': 40},\n",
    "            'Cotton': {'N': 110, 'P': 50, 'K': 60},\n",
    "            'Sugarcane': {'N': 200, 'P': 80, 'K': 120},\n",
    "            'Ground Nuts': {'N': 25, 'P': 75, 'K': 50},\n",
    "            'Pulses': {'N': 30, 'P': 60, 'K': 40},\n",
    "            'Millets': {'N': 80, 'P': 40, 'K': 30},\n",
    "            'Tobacco': {'N': 120, 'P': 60, 'K': 100},\n",
    "            'Oil seeds': {'N': 100, 'P': 60, 'K': 40},\n",
    "            'Barley': {'N': 120, 'P': 60, 'K': 40}\n",
    "        }\n",
    "        \n",
    "        self.model = None\n",
    "        self.encoders = {}"
   ]
  },
  {
   "cell_type": "code",
   "execution_count": 7,
   "id": "cf615554",
   "metadata": {},
   "outputs": [],
   "source": [
    "def rule_based_recommendation(self, nitrogen, phosphorous, potassium, crop_type):\n",
    "        '''\n",
    "        Primary recommendation method based on agricultural science\n",
    "        '''\n",
    "        # Get crop requirements or use default\n",
    "        needs = self.crop_requirements.get(crop_type, {'N': 100, 'P': 50, 'K': 50})\n",
    "        \n",
    "        # Calculate nutrient deficiencies\n",
    "        n_deficit = max(0, needs['N'] - nitrogen)\n",
    "        p_deficit = max(0, needs['P'] - phosphorous)\n",
    "        k_deficit = max(0, needs['K'] - potassium)\n",
    "        \n",
    "        # Agricultural logic for fertilizer selection\n",
    "        if n_deficit > 80 and p_deficit < 20 and k_deficit < 20:\n",
    "            return 'Urea'  # High nitrogen need\n",
    "        elif p_deficit > 30 and n_deficit > 10:\n",
    "            return 'DAP'  # Phosphorus + some nitrogen\n",
    "        elif n_deficit > 15 and p_deficit > 15 and k_deficit < 15:\n",
    "            return '28-28'  # Balanced N-P\n",
    "        elif abs(n_deficit - p_deficit) < 10 and abs(n_deficit - k_deficit) < 10 and n_deficit > 10:\n",
    "            return '17-17-17'  # Balanced NPK\n",
    "        elif p_deficit > 25 and k_deficit > 15:\n",
    "            return '14-35-14'  # High P with some K\n",
    "        elif k_deficit > 20 and p_deficit > 20:\n",
    "            return '10-26-26'  # High P-K\n",
    "        elif n_deficit > 20 and p_deficit > 15:\n",
    "            return '20-20'  # N-P combination\n",
    "        else:\n",
    "            return '17-17-17'  # Balanced maintenance"
   ]
  },
  {
   "cell_type": "code",
   "execution_count": null,
   "id": "7f731997",
   "metadata": {},
   "outputs": [],
   "source": []
  }
 ],
 "metadata": {
  "kernelspec": {
   "display_name": "base",
   "language": "python",
   "name": "python3"
  },
  "language_info": {
   "codemirror_mode": {
    "name": "ipython",
    "version": 3
   },
   "file_extension": ".py",
   "mimetype": "text/x-python",
   "name": "python",
   "nbconvert_exporter": "python",
   "pygments_lexer": "ipython3",
   "version": "3.12.7"
  }
 },
 "nbformat": 4,
 "nbformat_minor": 5
}
